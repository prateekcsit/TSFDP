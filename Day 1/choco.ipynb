{
 "cells": [
  {
   "cell_type": "markdown",
   "metadata": {
    "id": "XCgh-4MAzHS2"
   },
   "source": [
    "# Cocoa Beans Quality Analysis"
   ]
  },
  {
   "cell_type": "markdown",
   "metadata": {},
   "source": [
    "# **1. Load the dataset and display top 2 values**"
   ]
  },
  {
   "cell_type": "code",
   "execution_count": null,
   "metadata": {
    "colab": {
     "base_uri": "https://localhost:8080/",
     "height": 111
    },
    "id": "33YD05MEDh-R",
    "outputId": "a96497f4-33bf-4b8a-eb16-0bbb49e2e720"
   },
   "outputs": [],
   "source": [
    "import pandas as pd\n",
    "df = pd.read_csv('flavors.csv')\n",
    "df.head(2)\n",
    "\n",
    "# csv - comma separated values\n",
    "\n",
    "#https://www.kaggle.com/rtatman/chocolate-bar-ratings"
   ]
  },
  {
   "cell_type": "markdown",
   "metadata": {
    "id": "jwYH_tUH1saK"
   },
   "source": [
    "# **2. Remove unwanted characters in the column names and keep all the letters in lowercase**"
   ]
  },
  {
   "cell_type": "code",
   "execution_count": null,
   "metadata": {
    "colab": {
     "base_uri": "https://localhost:8080/"
    },
    "id": "5oIlNfyhC-bk",
    "outputId": "80630c4c-aa6f-40c1-db81-8a8fdeb850a9"
   },
   "outputs": [],
   "source": [
    "df.columns = df.columns.str.replace('\\n','_')\n",
    "df.columns = df.columns.str.lower()\n",
    "df.columns"
   ]
  },
  {
   "cell_type": "code",
   "execution_count": null,
   "metadata": {
    "colab": {
     "base_uri": "https://localhost:8080/",
     "height": 35
    },
    "id": "V9iM2WqRZN1p",
    "outputId": "96041449-6c5e-4b6d-835c-dcbd25ff5a02"
   },
   "outputs": [],
   "source": [
    "df.columns[-1]"
   ]
  },
  {
   "cell_type": "code",
   "execution_count": null,
   "metadata": {
    "colab": {
     "base_uri": "https://localhost:8080/",
     "height": 204
    },
    "id": "GOQO-qlQY5m2",
    "outputId": "295a74b3-3b67-44b7-ee8a-e2fbb351bccd"
   },
   "outputs": [],
   "source": [
    "df = df.rename(columns={df.columns[0]:'company',\n",
    "          df.columns[1]:'bean_origin',\n",
    "          df.columns[-1]:'broad_bean_origin'})\n",
    "df.head()"
   ]
  },
  {
   "cell_type": "markdown",
   "metadata": {
    "id": "VKWJSLfhMv5B"
   },
   "source": [
    "## **3. Which rating is the most popular for chocolates?**"
   ]
  },
  {
   "cell_type": "code",
   "execution_count": null,
   "metadata": {
    "colab": {
     "base_uri": "https://localhost:8080/"
    },
    "id": "yTQ6cld_getI",
    "outputId": "97077b89-8b23-420e-c51b-fe8b6ac20225"
   },
   "outputs": [],
   "source": [
    "# Method 2\n",
    "r = df['rating'].value_counts().sort_index(ascending=True)\n",
    "r"
   ]
  },
  {
   "cell_type": "code",
   "execution_count": null,
   "metadata": {
    "colab": {
     "base_uri": "https://localhost:8080/",
     "height": 295
    },
    "id": "-6N_roQjhraF",
    "outputId": "656fffb8-33e0-4308-d44b-ca1a720a60ec"
   },
   "outputs": [],
   "source": [
    "import matplotlib.pyplot as plt\n",
    "plt.bar(r.index.astype(str),r,color=['r','g'])\n",
    "plt.xlabel('Rating')\n",
    "plt.ylabel('Count')\n",
    "plt.title('Bar Graph')\n",
    "plt.show()"
   ]
  },
  {
   "cell_type": "code",
   "execution_count": null,
   "metadata": {
    "colab": {
     "base_uri": "https://localhost:8080/",
     "height": 297
    },
    "id": "kc5gTjAlvreG",
    "outputId": "b6206977-2a3d-4035-9e17-94a6ba24392e"
   },
   "outputs": [],
   "source": [
    "import seaborn as sns\n",
    "sns.kdeplot(df['rating'])"
   ]
  },
  {
   "cell_type": "markdown",
   "metadata": {
    "id": "n4rO_1lg7D2Y"
   },
   "source": [
    "# **4. Checking for missing values**"
   ]
  },
  {
   "cell_type": "code",
   "execution_count": null,
   "metadata": {
    "colab": {
     "base_uri": "https://localhost:8080/"
    },
    "id": "ocB97-eKk0zP",
    "outputId": "c25cb1fb-8839-48e3-aa1c-afad07eb1055"
   },
   "outputs": [],
   "source": [
    "df.isnull().sum()"
   ]
  },
  {
   "cell_type": "code",
   "execution_count": null,
   "metadata": {
    "colab": {
     "base_uri": "https://localhost:8080/",
     "height": 419
    },
    "id": "GEF0C5hAlWp0",
    "outputId": "618f346a-b88e-4a91-f7f1-aa2c491254cd"
   },
   "outputs": [],
   "source": [
    "# Check for np.where and use it with isnull()\n",
    "df[['bean_type']]"
   ]
  },
  {
   "cell_type": "code",
   "execution_count": null,
   "metadata": {
    "colab": {
     "base_uri": "https://localhost:8080/"
    },
    "id": "Fz2Zf5b0lyXC",
    "outputId": "84e025b8-a235-4334-c450-30e6af6e4c7c"
   },
   "outputs": [],
   "source": [
    "df['bean_type'].unique()\n",
    "# \\xa0 is actually non-breaking space in Latin1 (ISO 8859-1)"
   ]
  },
  {
   "cell_type": "code",
   "execution_count": null,
   "metadata": {
    "colab": {
     "base_uri": "https://localhost:8080/"
    },
    "id": "6qtIZWfEmMdg",
    "outputId": "85cd95c6-a759-48fb-fc3f-3a862423cc7b"
   },
   "outputs": [],
   "source": [
    "df['bean_type'].value_counts()\n",
    "\n",
    "# Replace the space with missing value and change it with mode"
   ]
  },
  {
   "cell_type": "code",
   "execution_count": null,
   "metadata": {
    "colab": {
     "base_uri": "https://localhost:8080/"
    },
    "id": "VJ1Wd-Ppmk2v",
    "outputId": "e20ca08d-f39d-400f-bf52-4c7d90fe303e"
   },
   "outputs": [],
   "source": [
    "df['bean_type'] = df['bean_type'].replace({'\\xa0':None})\n",
    "df['bean_type'] = df['bean_type'].fillna(df['bean_type'].mode()[0])\n",
    "df['bean_type']\n",
    "\n",
    "# https://stackoverflow.com/questions/38117016/update-pandas-dataframe-with-str-replace-vs-replace"
   ]
  },
  {
   "cell_type": "code",
   "execution_count": null,
   "metadata": {
    "colab": {
     "base_uri": "https://localhost:8080/"
    },
    "id": "etypmJocnnXJ",
    "outputId": "e8d36fd4-8a73-48da-e998-5b1b6beff115"
   },
   "outputs": [],
   "source": [
    "df['bean_type'].mode()"
   ]
  },
  {
   "cell_type": "markdown",
   "metadata": {
    "id": "-2Er7vCN8mdt"
   },
   "source": [
    "# **5. Corrections of words in the column by removing punctuations. Plot top 5 Bean Types**"
   ]
  },
  {
   "cell_type": "code",
   "execution_count": null,
   "metadata": {
    "colab": {
     "base_uri": "https://localhost:8080/"
    },
    "id": "kTDbf-fRo3sJ",
    "outputId": "4ae6b6da-87e7-40a1-9491-8b588fad74d4"
   },
   "outputs": [],
   "source": [
    "b = df['bean_type'].value_counts().head()\n",
    "b"
   ]
  },
  {
   "cell_type": "code",
   "execution_count": null,
   "metadata": {
    "colab": {
     "base_uri": "https://localhost:8080/",
     "height": 398
    },
    "id": "ue1bLAFNo7IQ",
    "outputId": "069207d1-e123-4623-b49f-b703c5e0a19f"
   },
   "outputs": [],
   "source": [
    "# Pandas Plotting\n",
    "\n",
    "b.plot(kind='bar',figsize=(10,4))\n",
    "for i in range(len(b)):\n",
    "  plt.text(i,b[i],b[i],fontsize=15,ha='center')\n",
    "plt.xlabel('Cocao Bean Type',fontsize=20)\n",
    "plt.ylabel('Count')"
   ]
  },
  {
   "cell_type": "markdown",
   "metadata": {
    "id": "PKaUgYRtBaa9"
   },
   "source": [
    "# **6. Cocoa percent over the years**"
   ]
  },
  {
   "cell_type": "code",
   "execution_count": null,
   "metadata": {
    "colab": {
     "base_uri": "https://localhost:8080/"
    },
    "id": "ylTvRnOMC3jU",
    "outputId": "eac5f54a-2b12-4d9c-f291-98c26a44badd"
   },
   "outputs": [],
   "source": [
    "df['cocoa_percent'] = df['cocoa_percent'].str.replace('%','').astype(float)/100\n",
    "df['cocoa_percent']"
   ]
  },
  {
   "cell_type": "code",
   "execution_count": null,
   "metadata": {
    "colab": {
     "base_uri": "https://localhost:8080/",
     "height": 265
    },
    "id": "sEu_qoQtrgQV",
    "outputId": "fdcaf4a6-4f6b-4012-c1a6-f5eea117eb1a"
   },
   "outputs": [],
   "source": [
    "plt.scatter(df['rating'],df['cocoa_percent'])\n",
    "plt.show()"
   ]
  },
  {
   "cell_type": "code",
   "execution_count": null,
   "metadata": {
    "colab": {
     "base_uri": "https://localhost:8080/",
     "height": 265
    },
    "id": "K6ujGHWUsF-D",
    "outputId": "1ec8ee51-c3b3-47b3-a127-51771a8a244e"
   },
   "outputs": [],
   "source": [
    "plt.scatter(df['review_date'],df['cocoa_percent'])\n",
    "plt.show()"
   ]
  },
  {
   "cell_type": "code",
   "execution_count": null,
   "metadata": {
    "colab": {
     "base_uri": "https://localhost:8080/",
     "height": 229
    },
    "id": "5ZF3IEzdsdsa",
    "outputId": "27f8f50d-fafb-43aa-f199-290e74ea5964",
    "scrolled": false
   },
   "outputs": [],
   "source": [
    "# 1st Method\n",
    "cocoa = df[['review_date','cocoa_percent']]\n",
    "cocoa_avg = []\n",
    "for i in range(2006,2018):\n",
    "  cocoa_avg.append(cocoa[cocoa['review_date']==i].mean()['cocoa_percent'])\n",
    "\n",
    "plt.figure(figsize=(15,3))\n",
    "plt.scatter(range(2006,2018),cocoa_avg)\n",
    "plt.plot(range(2006,2018),cocoa_avg,color='r')"
   ]
  },
  {
   "cell_type": "code",
   "execution_count": null,
   "metadata": {
    "colab": {
     "base_uri": "https://localhost:8080/",
     "height": 244
    },
    "id": "XtQqO6iMt1sL",
    "outputId": "eff77b7a-9f49-425c-c753-5253a5510a3d"
   },
   "outputs": [],
   "source": [
    "# Groupby ; Method in Pandas which creates DF/Series based on certain condition\n",
    "\n",
    "df1 = df.groupby('review_date').aggregate({'cocoa_percent':'mean'})\n",
    "df1.plot(figsize=(15,3))"
   ]
  },
  {
   "cell_type": "markdown",
   "metadata": {
    "id": "5kPgbJ-mP0-b"
   },
   "source": [
    "Interestingly, In the year 2008, the cocoa percentage in chocolate was highest and the average rating happened to be the lowest.\n",
    "\n",
    "The following year in 2009, the chocolate bars saw a steep decline in cocoa percentage, with an increase in average rating. This might indicate that chocolate bar producers decreased their cocoa content to make better chocolates."
   ]
  },
  {
   "cell_type": "markdown",
   "metadata": {
    "id": "H0uemmwhB5cF"
   },
   "source": [
    "# **7. Which company is mentioned multiple times?**"
   ]
  },
  {
   "cell_type": "code",
   "execution_count": null,
   "metadata": {
    "colab": {
     "base_uri": "https://localhost:8080/",
     "height": 204
    },
    "id": "03vFrFCaC4tQ",
    "outputId": "f838b613-01c4-49bf-d6d6-43e4fcba751c"
   },
   "outputs": [],
   "source": [
    "# Seaborn is an advanced data visualization library built on top of matplotlib\n",
    "d = df['company'].value_counts().head(5)\n",
    "d = pd.DataFrame(d)\n",
    "d = d.reset_index()\n",
    "d"
   ]
  },
  {
   "cell_type": "code",
   "execution_count": null,
   "metadata": {
    "colab": {
     "base_uri": "https://localhost:8080/",
     "height": 297
    },
    "id": "qnvHXC8vvRpI",
    "outputId": "6ab43e29-ae29-4e47-f949-a5e59bdcf57a"
   },
   "outputs": [],
   "source": [
    "import seaborn as sns\n",
    "sns.barplot(x ='index',y='company',data=d)"
   ]
  },
  {
   "cell_type": "markdown",
   "metadata": {
    "id": "Vtr60PqaCAw8"
   },
   "source": [
    "# **8. Consider Ratings and divide them into different categories and plot a pie chart**"
   ]
  },
  {
   "cell_type": "code",
   "execution_count": null,
   "metadata": {
    "colab": {
     "base_uri": "https://localhost:8080/",
     "height": 303
    },
    "id": "Kh2TI2n8C6BM",
    "outputId": "aae57b3b-3a6c-4f45-9a66-074300001733"
   },
   "outputs": [],
   "source": [
    "label = ['Disappointing','Satisfactory',' Premium and Elite']\n",
    "\n",
    "disapoint = df[df['rating']<2]\n",
    "satisfactory = df[(df['rating']>=2.0) &(df['rating']<3.0)]\n",
    "premium_elite = df[df['rating']>=3.0]\n",
    "\n",
    "x = [disapoint.shape[0],satisfactory.shape[0],premium_elite.shape[0]]\n",
    "plt.figure(figsize=(5,5))\n",
    "plt.pie(x,labels=label)\n",
    "plt.show()"
   ]
  },
  {
   "cell_type": "markdown",
   "metadata": {
    "id": "sPKZQT5BCMi9"
   },
   "source": [
    "# **9. Feature Generation. We can classify the chocolates into Dark, Normal chocolates.**"
   ]
  },
  {
   "cell_type": "code",
   "execution_count": null,
   "metadata": {
    "id": "uDsFrvlIQW3U"
   },
   "outputs": [],
   "source": [
    "df[df['cocoa_percent']<0.7].sample(10)\n",
    "df['chocolate_type'] = df['cocoa_percent'].apply(lambda x: 'dark' if x>=0.7 else 'normal')"
   ]
  },
  {
   "cell_type": "code",
   "execution_count": null,
   "metadata": {
    "colab": {
     "base_uri": "https://localhost:8080/"
    },
    "id": "4er0VEylOUQt",
    "outputId": "fb09e990-0081-4d12-9eab-82de1ca34ac3"
   },
   "outputs": [],
   "source": [
    "df['chocolate_type'].value_counts()"
   ]
  },
  {
   "cell_type": "code",
   "execution_count": null,
   "metadata": {
    "colab": {
     "base_uri": "https://localhost:8080/",
     "height": 307
    },
    "id": "J22SRXncO2ht",
    "outputId": "b1645d20-3130-47d7-c51e-0a38714234b2"
   },
   "outputs": [],
   "source": [
    "df['chocolate_type'].value_counts().plot(kind='bar')"
   ]
  },
  {
   "cell_type": "markdown",
   "metadata": {
    "id": "oroUno1HPOwk"
   },
   "source": [
    "We have much Dark chocolates than normal"
   ]
  },
  {
   "cell_type": "markdown",
   "metadata": {
    "id": "vKFsxxhhQFX7"
   },
   "source": [
    "# **10. Where the best cocoa beans are grown (based on rating)**"
   ]
  },
  {
   "cell_type": "code",
   "execution_count": null,
   "metadata": {
    "colab": {
     "base_uri": "https://localhost:8080/",
     "height": 394
    },
    "id": "H6XpwajtPNn9",
    "outputId": "6f30826b-9dd9-42b9-eef2-e257e9b9523d"
   },
   "outputs": [],
   "source": [
    "countries=df['broad_bean_origin'].value_counts().index.tolist()[:5]\n",
    "satisfactory={} \n",
    "for j in countries:\n",
    "    c=0\n",
    "    b=df[df['broad_bean_origin']==j]\n",
    "    br=b[b['rating']>=3] \n",
    "    for i in br['rating']:\n",
    "        c+=1\n",
    "        satisfactory[j]=c    \n",
    "\n",
    "# Code to visualize the countries that give best cocoa beans\n",
    "li=satisfactory.keys()\n",
    "plt.figure(figsize=(10,5))\n",
    "plt.bar(range(len(satisfactory)), satisfactory.values(), align='center',color=['#a22a2a','#511515','#e59a9a','#d04949','#a22a2a'])\n",
    "plt.xticks(range(len(satisfactory)), list(li))\n",
    "plt.xlabel('\\nCountry')\n",
    "plt.ylabel('Number of chocolate bars')\n",
    "plt.title(\"Top 5 Broad origins of the Chocolate Beans with a Rating above 3.0\\n\")\n",
    "plt.show()\n",
    "\n",
    "print(satisfactory)"
   ]
  },
  {
   "cell_type": "markdown",
   "metadata": {
    "id": "4PttrP9QQQuD"
   },
   "source": [
    "## Exercise 1: Analyse the top chocolate bar producing countries (in terms of quantity)"
   ]
  },
  {
   "cell_type": "code",
   "execution_count": null,
   "metadata": {
    "colab": {
     "base_uri": "https://localhost:8080/",
     "height": 492
    },
    "id": "nepcKFf-QDup",
    "outputId": "e5a37829-ca61-4eb5-9162-c2adff2af863"
   },
   "outputs": [],
   "source": []
  },
  {
   "cell_type": "code",
   "execution_count": null,
   "metadata": {
    "id": "6_gbITs3QV40"
   },
   "outputs": [],
   "source": []
  },
  {
   "cell_type": "markdown",
   "metadata": {},
   "source": [
    "## Exercise 2: A manufacturer of chocolates needs to avoid bad cocoa beans for manufacturing quality chocolate products. Help him Find & Analyse worst cocoa beans producing countries based on ratings"
   ]
  },
  {
   "cell_type": "code",
   "execution_count": null,
   "metadata": {},
   "outputs": [],
   "source": []
  },
  {
   "cell_type": "code",
   "execution_count": null,
   "metadata": {},
   "outputs": [],
   "source": []
  }
 ],
 "metadata": {
  "colab": {
   "authorship_tag": "ABX9TyOCbVx6do+mwRUU1aaS0v/D",
   "include_colab_link": true,
   "mount_file_id": "1CBSxejaMRpOtLajjZjcu5UwJaSNhKwtV",
   "name": "Choco_Bar_Ratings_Data_Analytics_EDA.ipynb",
   "provenance": []
  },
  "kernelspec": {
   "display_name": "Python 3",
   "language": "python",
   "name": "python3"
  },
  "language_info": {
   "codemirror_mode": {
    "name": "ipython",
    "version": 3
   },
   "file_extension": ".py",
   "mimetype": "text/x-python",
   "name": "python",
   "nbconvert_exporter": "python",
   "pygments_lexer": "ipython3",
   "version": "3.7.6"
  }
 },
 "nbformat": 4,
 "nbformat_minor": 1
}
